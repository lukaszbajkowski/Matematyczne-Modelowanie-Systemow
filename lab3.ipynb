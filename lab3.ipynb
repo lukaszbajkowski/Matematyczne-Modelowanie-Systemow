{
 "cells": [
  {
   "cell_type": "code",
   "execution_count": 1,
   "metadata": {},
   "outputs": [],
   "source": [
    "import numpy as np\n",
    "import statistics as stat"
   ]
  },
  {
   "cell_type": "code",
   "execution_count": 2,
   "metadata": {},
   "outputs": [
    {
     "name": "stdout",
     "output_type": "stream",
     "text": [
      "[142.2, 138.9, 140.3, 137.4, 143.1, 133.6, 141.8, 137.5, 154.5, 148.6, 146.0, 146.5, 136.7, 146.2, 149.6, 133.0, 151.2, 146.0, 147.0, 143.4, 142.0, 147.3, 139.5, 137.2, 146.6, 156.0, 141.4, 135.5, 142.1, 142.7, 149.6, 141.2, 139.1, 147.1, 140.4, 150.4, 145.3, 149.9, 150.8, 149.3, 150.3, 151.8, 142.4, 141.8, 157.0, 153.1, 129.8, 151.5, 155.2, 152.8, 146.0, 155.9, 147.5, 147.5, 148.7, 146.8, 148.7, 139.2, 137.5, 150.7, 144.8, 151.2, 143.0, 151.1, 148.7, 144.0, 152.8, 148.5, 137.4, 158.2]\n"
     ]
    }
   ],
   "source": [
    "dane_sz = []\n",
    "with open(\"dane_wys_lab2.txt\", 'r') as fi:\n",
    "    for line in fi:\n",
    "        if line.split():\n",
    "            line = [float(x) for x in line.split()]\n",
    "            dane_sz.append(line)\n",
    "\n",
    "\n",
    "dane=[]\n",
    "for item in dane_sz:\n",
    "    for number in item:\n",
    "        dane.append(number)\n",
    "\n",
    "print(dane)"
   ]
  },
  {
   "cell_type": "code",
   "execution_count": 3,
   "metadata": {},
   "outputs": [
    {
     "name": "stdout",
     "output_type": "stream",
     "text": [
      "129.8 158.2 70 8.4\n"
     ]
    }
   ],
   "source": [
    "min = np.min(dane)\n",
    "max = np.max(dane)\n",
    "n = len(dane)\n",
    "rozstep = max-min\n",
    "k_rob = round(n**0.5, 1)\n",
    "print(min, max, n , k_rob)"
   ]
  },
  {
   "cell_type": "code",
   "execution_count": 4,
   "metadata": {},
   "outputs": [],
   "source": [
    "# uwaga funkcja została lekko zmodyfikowana w porównaniu do funkcji podanej w lab2, tak zeby liczebności otrzymac takie same jak w Excelu\n",
    "def tworz_szereg(dane,  h, x01):\n",
    "    max = np.max(dane)\n",
    "    x11 = x01\n",
    "    przedzialy = []\n",
    "    liczebnosci = []\n",
    "    zakresy = [x01]\n",
    "    srodki = []\n",
    "    while x11 < max:\n",
    "        x11 = x01 + h\n",
    "        n1 = len([x for x in dane if (x > x01 and x <= x11)])\n",
    "        przedzialy.append([x01, x11])\n",
    "        liczebnosci.append(n1)\n",
    "        zakresy.append(x11)\n",
    "        srodki.append((x01 + x11)/2)\n",
    "        x01 = x11\n",
    "    return przedzialy, liczebnosci, zakresy, srodki\n",
    "    "
   ]
  },
  {
   "cell_type": "code",
   "execution_count": 5,
   "metadata": {},
   "outputs": [
    {
     "name": "stdout",
     "output_type": "stream",
     "text": [
      "[1, 2, 7, 11, 10, 17, 13, 7, 2]\n",
      "[[128, 131.5], [131.5, 135.0], [135.0, 138.5], [138.5, 142.0], [142.0, 145.5], [145.5, 149.0], [149.0, 152.5], [152.5, 156.0], [156.0, 159.5]]\n"
     ]
    }
   ],
   "source": [
    "#decyzja o wyborze parametrów, które będa stosowane do utworzenia szeregu\n",
    "n= len(dane)\n",
    "h = 3.5\n",
    "x01 = 128\n",
    "przedzialy, liczebnosci, zakresy, srodki = tworz_szereg(dane,  h, x01)\n",
    "print(liczebnosci)\n",
    "print(przedzialy)"
   ]
  },
  {
   "cell_type": "code",
   "execution_count": 6,
   "metadata": {},
   "outputs": [
    {
     "name": "stdout",
     "output_type": "stream",
     "text": [
      "[1, 3, 10, 21, 31, 48, 61, 68, 70]\n"
     ]
    }
   ],
   "source": [
    "skumulowany = [liczebnosci[0]]\n",
    "for i in range(1, len(liczebnosci)):\n",
    "    skumulowany.append(skumulowany[i-1]+liczebnosci[i])\n",
    "print(skumulowany)"
   ]
  },
  {
   "cell_type": "code",
   "execution_count": 8,
   "metadata": {},
   "outputs": [
    {
     "name": "stdout",
     "output_type": "stream",
     "text": [
      "[0.014285714285714285, 0.04285714285714286, 0.14285714285714285, 0.3, 0.44285714285714284, 0.6857142857142857, 0.8714285714285714, 0.9714285714285714, 1.0]\n"
     ]
    }
   ],
   "source": [
    "dystr_empiryczna =  [x/n for x in skumulowany]\n",
    "print(dystr_empiryczna)"
   ]
  },
  {
   "cell_type": "code",
   "execution_count": 9,
   "metadata": {},
   "outputs": [
    {
     "name": "stdout",
     "output_type": "stream",
     "text": [
      "70 5 145.5 17 31 3.5\n",
      "146.3235294117647\n",
      "146.35\n"
     ]
    }
   ],
   "source": [
    "#mediana \n",
    "ind_rob = [0 if x < 0.5 else 1 for x in dystr_empiryczna]\n",
    "m = ind_rob.index(1)\n",
    "x0m = przedzialy[m][0]\n",
    "nm = liczebnosci[m]\n",
    "hm = przedzialy[m][1] - przedzialy[m][0]\n",
    "n_sk_1 = skumulowany[m-1]\n",
    "print(n, m, x0m, nm, n_sk_1, hm)\n",
    "mediana = x0m + (n/2 - n_sk_1)*hm/nm\n",
    "print(mediana)\n",
    "M = np.percentile(dane, 50)\n",
    "print(M)"
   ]
  },
  {
   "cell_type": "code",
   "execution_count": 10,
   "metadata": {},
   "outputs": [
    {
     "name": "stdout",
     "output_type": "stream",
     "text": [
      "5 145.5 17 10 13 3.5\n",
      "147.72727272727272\n",
      "146.0\n"
     ]
    }
   ],
   "source": [
    "maks = np.max(liczebnosci)\n",
    "d = liczebnosci.index(maks)\n",
    "x0d = przedzialy[d][0]\n",
    "nd = liczebnosci[d]\n",
    "hd = przedzialy[d][1] - przedzialy[d][0]\n",
    "nd_minus1 = liczebnosci[d-1]\n",
    "nd_plus1 = liczebnosci[d+1]\n",
    "print(d, x0d, nd, nd_minus1, nd_plus1, hd)\n",
    "D = x0d + (nd - nd_minus1)*hd/(nd - nd_minus1 + nd - nd_plus1)\n",
    "print(D)\n",
    "print(stat.mode(dane))"
   ]
  }
 ],
 "metadata": {
  "kernelspec": {
   "display_name": "Python 3",
   "language": "python",
   "name": "python3"
  },
  "language_info": {
   "codemirror_mode": {
    "name": "ipython",
    "version": 3
   },
   "file_extension": ".py",
   "mimetype": "text/x-python",
   "name": "python",
   "nbconvert_exporter": "python",
   "pygments_lexer": "ipython3",
   "version": "3.8.0"
  },
  "orig_nbformat": 4,
  "vscode": {
   "interpreter": {
    "hash": "cab8b2d0ca949cb1738e0ea8660584997c5c560dc4d9bf125aa6b37ab39de048"
   }
  }
 },
 "nbformat": 4,
 "nbformat_minor": 2
}
